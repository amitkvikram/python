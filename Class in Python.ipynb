{
 "cells": [
  {
   "cell_type": "code",
   "execution_count": 12,
   "metadata": {
    "collapsed": true
   },
   "outputs": [],
   "source": [
    "import pandas as pd\n",
    "import numpy as np\n",
    "import copy"
   ]
  },
  {
   "cell_type": "markdown",
   "metadata": {},
   "source": [
    "|Data Type| Mutable/Immutable|\n",
    "|------|------|\n",
    "|bool  | Immutable|\n",
    "|int  | Immutable|\n",
    "|float  | Immutable|\n",
    "|   list  | Mutable|\n",
    "|   tuple  | Immutable|\n",
    "|   str  | Immutable|\n",
    "|   set  | Mutable|\n",
    "|   frozen set  | Immutable|\n",
    "|   dict  | Mutable|\n",
    "|   User Defined Class  | Mutable|"
   ]
  },
  {
   "cell_type": "code",
   "execution_count": 26,
   "metadata": {},
   "outputs": [
    {
     "name": "stdout",
     "output_type": "stream",
     "text": [
      "0x7faf3aefa830 0x7faf3aefa890\n",
      "False\n",
      "1001 1000\n",
      "False\n",
      "0x7faf3aefafb0 0x7faf3aefafb0\n",
      "True\n"
     ]
    }
   ],
   "source": [
    "x = 1000\n",
    "z = 1000\n",
    "print(hex(id(x)), hex(id(z)))\n",
    "print(x is z)\n",
    "y = x\n",
    "x = x + 1\n",
    "print(x, y)\n",
    "print(x is y)\n",
    "y = copy.deepcopy(x)\n",
    "print(hex(id(x)), hex(id(y)))\n",
    "print(x is y)\n",
    "# print(hex(id(x)), hex(id(y)))"
   ]
  },
  {
   "cell_type": "code",
   "execution_count": 29,
   "metadata": {
    "collapsed": true
   },
   "outputs": [],
   "source": [
    "class Human:\n",
    "    def __init__(self, height, eyeColor):\n",
    "        self.height = height\n",
    "        self.eyeColor = eyeColor\n",
    "    \n",
    "    def getEyeColor(self):\n",
    "#         print(hex(id(self.eyeColor)))\n",
    "        return self.eyeColor\n",
    "    \n",
    "    def getHeight(self):\n",
    "#         print(hex(id(self.height)))\n",
    "        return self.height"
   ]
  },
  {
   "cell_type": "code",
   "execution_count": 66,
   "metadata": {},
   "outputs": [
    {
     "name": "stdout",
     "output_type": "stream",
     "text": [
      "165 black\n"
     ]
    }
   ],
   "source": [
    "amit = Human(165, \"black\")\n",
    "print(amit.getHeight(), amit.getEyeColor())"
   ]
  },
  {
   "cell_type": "code",
   "execution_count": 71,
   "metadata": {},
   "outputs": [
    {
     "name": "stdout",
     "output_type": "stream",
     "text": [
      "abc is amit:  True\n",
      "amit is name of address:  0x7faf3ab4dba8 abc is name of address: 0x7faf3ab4dba8\n",
      "---------------------\n",
      "abc is amit:  False\n",
      "amit is name of address:  0x7faf3ab4dba8 abc is name of address: 0x7faf3ae81a20\n"
     ]
    }
   ],
   "source": [
    "abc = amit\n",
    "print(\"abc is amit: \", abc is amit)\n",
    "print(\"amit is name of address: \", hex(id(amit)), \"abc is name of address:\", hex(id(abc)))\n",
    "abc = copy.copy(amit)\n",
    "print(\"---------------------\")\n",
    "print(\"abc is amit: \", abc is amit)\n",
    "print(\"amit is name of address: \", hex(id(amit)), \"abc is name of address:\", hex(id(abc)))"
   ]
  },
  {
   "cell_type": "markdown",
   "metadata": {},
   "source": [
    "** Integer **\n",
    "- Integer belongs to class int\n",
    "- Integer is immutable\n",
    "- an immutable object can not be changed"
   ]
  },
  {
   "cell_type": "code",
   "execution_count": 78,
   "metadata": {},
   "outputs": [
    {
     "name": "stdout",
     "output_type": "stream",
     "text": [
      "Type of x:  <class 'int'>\n",
      "y is name of address:  0x7faf3ab3a250 x is name of address:  0x7faf3ab3a250\n",
      "---------------------\n",
      "y is name of address:  0x7faf3ab3a230 x is name of address:  0x7faf3ab3a250\n",
      "---------------------\n",
      "x:  1001 y:  1000\n",
      "y is name of address:  0x7faf3aefa670 x is name of address:  0x7faf3ab3a250\n"
     ]
    }
   ],
   "source": [
    "x = 1000         #1000 is object and x is name of that object\n",
    "print(\"Type of x: \", type(x))     #int is a class\n",
    "\n",
    "y = x            #assign reference; like x and y are different names of same person\n",
    "print(\"y is name of address: \", hex(id(y)), \"x is name of address: \", hex(id(x)))\n",
    "print(\"---------------------\")\n",
    "y = 1000         #1000 is a new object and y is name of new object\n",
    "print(\"y is name of address: \", hex(id(y)), \"x is name of address: \", hex(id(x)))\n",
    "print(\"---------------------\")\n",
    "y = x + 1       #since x is immutable and hence can not be changed, therefore a new object with value x + 1..\n",
    "                #is created and y is name of that new object; x is still name of old object\n",
    "print(\"x: \",y,\"y: \", x)\n",
    "print(\"y is name of address: \", hex(id(y)), \"x is name of address: \", hex(id(x)))"
   ]
  },
  {
   "cell_type": "code",
   "execution_count": 95,
   "metadata": {},
   "outputs": [
    {
     "name": "stdout",
     "output_type": "stream",
     "text": [
      "0x7faf3ab5f828 0x7faf3ab5fb70\n",
      "0x7faf72e530a0 0x7faf6b555e68\n",
      "0x7faf72e530a0 0x7faf6b555e68\n",
      "155 165\n",
      "0x7faf72e530a0 0x7faf6b555e68\n",
      "0x7faf72e52f60 0x7faf6b555e68\n"
     ]
    }
   ],
   "source": [
    "amit = Human(165, \"black\")\n",
    "abc = copy.copy(amit)\n",
    "# abc = amit\n",
    "print(hex(id(amit)), hex(id(abc)))\n",
    "print(hex(id(amit.getHeight())), hex(id(amit.getEyeColor())))\n",
    "print(hex(id(abc.getHeight())), hex(id(abc.getEyeColor())))\n",
    "abc.height = 155\n",
    "print(abc.getHeight(), amit.getHeight())\n",
    "print(hex(id(amit.getHeight())), hex(id(amit.getEyeColor())))\n",
    "print(hex(id(abc.getHeight())), hex(id(abc.getEyeColor())))"
   ]
  },
  {
   "cell_type": "code",
   "execution_count": 103,
   "metadata": {},
   "outputs": [
    {
     "name": "stdout",
     "output_type": "stream",
     "text": [
      "[1, 2, 3] [1, 2, 3]\n",
      "[1, 10, 3] [1, 10, 3]\n",
      "0x7faf72e52cc0 0x7faf3ab06048\n",
      "0x7faf72e52cc0 0x7faf3ab06048\n",
      "['0x7faf72e51c20', '0x7faf72e51d40', '0x7faf72e51c60']\n",
      "['0x7faf72e51c20', '0x7faf72e51d40', '0x7faf72e51c60']\n"
     ]
    }
   ],
   "source": [
    "class Tiger:\n",
    "    def __init__ (self, height, charList):\n",
    "        self.height = height\n",
    "        self.charList = charList\n",
    "        \n",
    "t1 = Tiger(134, [1, 2, 3])\n",
    "t2 = copy.copy(t1)\n",
    "print(t1.charList, t2.charList)\n",
    "t2.charList[1] = 10\n",
    "print(t1.charList, t2.charList)\n",
    "print(hex(id(t1.height)), hex(id(t1.charList)))\n",
    "print(hex(id(t2.height)), hex(id(t2.charList)))\n",
    "print([hex(id(x)) for x in t1.charList])\n",
    "print([hex(id(x)) for x in t2.charList])"
   ]
  },
  {
   "cell_type": "code",
   "execution_count": 109,
   "metadata": {},
   "outputs": [
    {
     "name": "stdout",
     "output_type": "stream",
     "text": [
      "[1, 2, 3] [1, 2, 3]\n",
      "[1, 2, 3] [1, 101, 3]\n",
      "0x7faf72e52cc0 0x7faf3aa7cc08\n",
      "0x7faf72e52cc0 0x7faf3aa7c848\n",
      "['0x7faf72e51c20', '0x7faf72e51c40', '0x7faf72e51c60']\n",
      "['0x7faf72e51c20', '0x7faf72e528a0', '0x7faf72e51c60']\n"
     ]
    }
   ],
   "source": [
    "t1 = Tiger(134, [1, 2, 3])\n",
    "t2 = copy.deepcopy(t1)\n",
    "print(t1.charList, t2.charList)\n",
    "t2.charList[1] = 101\n",
    "print(t1.charList, t2.charList)\n",
    "print(hex(id(t1.height)), hex(id(t1.charList)))\n",
    "print(hex(id(t2.height)), hex(id(t2.charList)))\n",
    "print([hex(id(x)) for x in t1.charList])\n",
    "print([hex(id(x)) for x in t2.charList])"
   ]
  },
  {
   "cell_type": "code",
   "execution_count": 75,
   "metadata": {
    "collapsed": true
   },
   "outputs": [],
   "source": [
    "allVar = dict({})"
   ]
  },
  {
   "cell_type": "code",
   "execution_count": 76,
   "metadata": {},
   "outputs": [
    {
     "name": "stdout",
     "output_type": "stream",
     "text": [
      "{'0x7f08185f6748': ['amit', 'abc'], '0x7f07ee12b940': ['vikram', ' ']}\n"
     ]
    },
    {
     "data": {
      "text/html": [
       "<div>\n",
       "<style>\n",
       "    .dataframe thead tr:only-child th {\n",
       "        text-align: right;\n",
       "    }\n",
       "\n",
       "    .dataframe thead th {\n",
       "        text-align: left;\n",
       "    }\n",
       "\n",
       "    .dataframe tbody tr th {\n",
       "        vertical-align: top;\n",
       "    }\n",
       "</style>\n",
       "<table border=\"1\" class=\"dataframe\">\n",
       "  <thead>\n",
       "    <tr style=\"text-align: right;\">\n",
       "      <th></th>\n",
       "      <th>0x7f07ee12b940</th>\n",
       "      <th>0x7f08185f6748</th>\n",
       "    </tr>\n",
       "  </thead>\n",
       "  <tbody>\n",
       "    <tr>\n",
       "      <th>Name1</th>\n",
       "      <td>vikram</td>\n",
       "      <td>amit</td>\n",
       "    </tr>\n",
       "    <tr>\n",
       "      <th>Name2</th>\n",
       "      <td></td>\n",
       "      <td>abc</td>\n",
       "    </tr>\n",
       "  </tbody>\n",
       "</table>\n",
       "</div>"
      ],
      "text/plain": [
       "      0x7f07ee12b940 0x7f08185f6748\n",
       "Name1         vikram           amit\n",
       "Name2                           abc"
      ]
     },
     "metadata": {},
     "output_type": "display_data"
    }
   ],
   "source": [
    "insertVar('amit', hex(id(amit)))\n",
    "insertVar('abc', hex(id(abc)))\n",
    "insertVar('vikram', hex(id(vikram)))\n",
    "makeEqual()\n",
    "print(allVar)\n",
    "display(pd.DataFrame(allVar, index = [\"Name1\", \"Name2\"]))"
   ]
  },
  {
   "cell_type": "code",
   "execution_count": 73,
   "metadata": {
    "collapsed": true
   },
   "outputs": [],
   "source": [
    "def makeEqual():\n",
    "    maxLen = 0;\n",
    "    for key in allVar:\n",
    "        if(len(allVar[key]) > maxLen):\n",
    "            maxLen = len(allVar[key])\n",
    "                     \n",
    "    for key in allVar:\n",
    "        allVar[key].extend([' ']*(maxLen - len(allVar[key])))\n",
    "                "
   ]
  },
  {
   "cell_type": "code",
   "execution_count": 74,
   "metadata": {
    "collapsed": true
   },
   "outputs": [],
   "source": [
    "def insertVar(nameVar, Id):\n",
    "    if Id in allVar:\n",
    "        allVar[Id].append(nameVar)\n",
    "    else:\n",
    "        allVar[Id] = [nameVar]"
   ]
  },
  {
   "cell_type": "code",
   "execution_count": 79,
   "metadata": {},
   "outputs": [
    {
     "name": "stdout",
     "output_type": "stream",
     "text": [
      "0x7f082621cd40 0x7f082621cd60\n",
      "10 11\n"
     ]
    }
   ],
   "source": [
    "i = 10\n",
    "j = i\n",
    "j+=1\n",
    "print(hex(id(i)), hex(id(j)))\n",
    "print(i, j)"
   ]
  },
  {
   "cell_type": "code",
   "execution_count": null,
   "metadata": {
    "collapsed": true
   },
   "outputs": [],
   "source": []
  },
  {
   "cell_type": "code",
   "execution_count": 89,
   "metadata": {},
   "outputs": [
    {
     "name": "stdout",
     "output_type": "stream",
     "text": [
      "arr:  [1 2 3] \n",
      "arr1: [1 2 3]\n",
      "arr Refers to:  0x7f07ede1b8f0 \n",
      "arr1 referes to:  0x7f07ede1b8f0\n",
      "-----------------------\n",
      "arr:  [ 1  2 10] \n",
      "arr1: [ 1  2 10]\n",
      "arr Refers to:  0x7f07ede1b8f0 \n",
      "arr1 referes to:  0x7f07ede1b8f0\n",
      "-------------------------\n",
      "arr:  [ 1  2 10] \n",
      "arr1: [3 4 5]\n",
      "arr Refers to:  0x7f07ede1b8f0 \n",
      "arr1 referes to:  0x7f07ede0d8f0\n",
      "-------------------------\n",
      "arr:  [ 1  2 10] \n",
      "arr1: [ 1  2 10]\n",
      "arr Refers to:  0x7f07ede1b8f0 \n",
      "arr1 referes to:  0x7f07ede14df0\n"
     ]
    }
   ],
   "source": [
    "arr = np.array([1, 2, 3])\n",
    "arr1 = arr\n",
    "print(\"arr: \",arr, \"\\narr1:\", arr1)\n",
    "print(\"arr Refers to: \",hex(id(arr)), \"\\narr1 referes to: \", hex(id(arr1)))\n",
    "arr1[2] = 10\n",
    "print(\"-----------------------\")\n",
    "print(\"arr: \",arr, \"\\narr1:\", arr1)\n",
    "print(\"arr Refers to: \",hex(id(arr)), \"\\narr1 referes to: \", hex(id(arr1)))\n",
    "print(\"-------------------------\")\n",
    "arr1 = np.array([3, 4, 5])\n",
    "print(\"arr: \",arr, \"\\narr1:\", arr1)\n",
    "print(\"arr Refers to: \",hex(id(arr)), \"\\narr1 referes to: \", hex(id(arr1)))\n",
    "print(\"-------------------------\")\n",
    "arr1 = arr[:3]\n",
    "di(\"arr: \",arr, \"\\narr1:\", arr1)\n",
    "print(\"arr Refers to: \",hex(id(arr)), \"\\narr1 referes to: \", hex(id(arr1)))"
   ]
  },
  {
   "cell_type": "code",
   "execution_count": 47,
   "metadata": {},
   "outputs": [
    {
     "name": "stdout",
     "output_type": "stream",
     "text": [
      "[10, 2, 3] [10, 2, 3]\n",
      "[10, 2, 3] [101, 2, 3]\n",
      "0x7faf3aba6f88 0x7faf3ab9ec48\n",
      "['0x7faf72e51d40', '0x7faf72e51c40', '0x7faf72e51c60']\n",
      "['0x7faf72e528a0', '0x7faf72e51c40', '0x7faf72e51c60']\n"
     ]
    }
   ],
   "source": [
    "a = [10, 2, 3]\n",
    "b = copy.deepcopy(a)\n",
    "print(a, b)\n",
    "b[0] = 10\n",
    "print(a, b)\n",
    "print(hex(id(a)), hex(id(b)))\n",
    "print([hex(id(x)) for x in a])\n",
    "print([hex(id(x)) for x in b])"
   ]
  },
  {
   "cell_type": "code",
   "execution_count": 48,
   "metadata": {},
   "outputs": [
    {
     "name": "stdout",
     "output_type": "stream",
     "text": [
      "0x7faf72e51d40\n"
     ]
    }
   ],
   "source": [
    "c = 10\n",
    "print(hex(id(c)))"
   ]
  },
  {
   "cell_type": "code",
   "execution_count": 94,
   "metadata": {},
   "outputs": [
    {
     "name": "stdout",
     "output_type": "stream",
     "text": [
      "[1, 2, 3, [4, 5], 6] [1, 2, 3, [4, 5], 6]\n",
      "a:  0x7faf3ab060c8 b:  0x7faf3ab060c8\n",
      "['0x7faf72e51c20', '0x7faf72e51c40', '0x7faf72e51c60', '0x7faf3ab12dc8', '0x7faf72e51cc0']\n",
      "['0x7faf72e51c20', '0x7faf72e51c40', '0x7faf72e51c60', '0x7faf3ab12dc8', '0x7faf72e51cc0']\n",
      "---------------------\n",
      "[1, 2, 3, [4, 5], 6] [123, 2, 3, [1, 2], 6]\n",
      "a:  0x7faf3ab060c8 b:  0x7faf3ab5bec8\n",
      "['0x7faf72e51c20', '0x7faf72e51c40', '0x7faf72e51c60', '0x7faf3ab12dc8', '0x7faf72e51cc0']\n",
      "['0x7faf72e52b60', '0x7faf72e51c40', '0x7faf72e51c60', '0x7faf3ab5b5c8', '0x7faf72e51cc0']\n",
      "---------------------\n",
      "[121, 2, 3, [13, 5], 6] [1, 2, 3, [4, 5], 6]\n",
      "a:  0x7faf3ab060c8 b:  0x7faf3ab1af48\n",
      "['0x7faf72e51c20', '0x7faf72e51c40', '0x7faf72e51c60', '0x7faf3ab12dc8', '0x7faf72e51cc0']\n",
      "['0x7faf72e52b20', '0x7faf72e51c40', '0x7faf72e51c60', '0x7faf3ab061c8', '0x7faf72e51cc0']\n",
      "---------------------\n",
      "['0x7faf72e51c80', '0x7faf72e51ca0']\n",
      "['0x7faf72e51da0', '0x7faf72e51ca0']\n"
     ]
    }
   ],
   "source": [
    "a = [1,2,3,[4,5],6]\n",
    "b = a\n",
    "print(a, b)\n",
    "print(\"a: \",hex(id(a)), \"b: \", hex(id(b)))\n",
    "print([hex(id(x)) for x in a])\n",
    "print([hex(id(x)) for x in b])\n",
    "print(\"---------------------\")\n",
    "b = a[:]    #equivalent = a.copy() or copy.copy(a) or list(a)  = swallow copy\n",
    "b[0] = 123\n",
    "b[3]= [1, 2]\n",
    "print(a, b)\n",
    "print(\"a: \",hex(id(a)), \"b: \", hex(id(b)))\n",
    "print([hex(id(x)) for x in a])\n",
    "print([hex(id(x)) for x in b])\n",
    "print(\"---------------------\")\n",
    "b = copy.deepcopy(a)\n",
    "b[0] = 121\n",
    "b[3][0] = 13\n",
    "print(b, a)\n",
    "print(\"a: \",hex(id(a)), \"b: \", hex(id(b)))\n",
    "print([hex(id(x)) for x in a])\n",
    "print([hex(id(x)) for x in b])\n",
    "print(\"---------------------\")\n",
    "print([hex(id(x)) for x in a[3]])\n",
    "print([hex(id(x)) for x in b[3]])"
   ]
  },
  {
   "cell_type": "code",
   "execution_count": 114,
   "metadata": {},
   "outputs": [
    {
     "name": "stdout",
     "output_type": "stream",
     "text": [
      "[1, 2, 3, 4, 5]\n",
      "[10, 2, 3]\n",
      "[101, 2, 3, 4, 5]\n",
      "[101, 2, 3, 4, 5]\n"
     ]
    }
   ],
   "source": [
    "l1 = [1, 2, 3, 4, 5]\n",
    "l2 = l1[:3]     #swallow copy   \n",
    "l2[0] = 10\n",
    "print(l1)\n",
    "print(l2)\n",
    "l3 = l1\n",
    "l3[0] = 101\n",
    "print(l1)\n",
    "print(l3)"
   ]
  },
  {
   "cell_type": "code",
   "execution_count": 128,
   "metadata": {},
   "outputs": [
    {
     "name": "stdout",
     "output_type": "stream",
     "text": [
      "[[1 2 3]\n",
      " [4 5 6]\n",
      " [7 8 9]]\n",
      "[[1 2 3]\n",
      " [4 5 6]\n",
      " [7 8 9]]\n",
      "[[1 2 3]\n",
      " [4 5 6]\n",
      " [7 8 9]]\n",
      "[[101   2   3]\n",
      " [  4   5   6]\n",
      " [  7   8   9]]\n"
     ]
    }
   ],
   "source": [
    "arr1 = np.array([[1,2, 3], [4, 5, 6], [7, 8, 9]])\n",
    "arr2 = copy.copy(arr1)\n",
    "print(arr1)\n",
    "print(arr2)\n",
    "arr2[0][0] = 101\n",
    "# arr2[0] = np.array([101,102, 103])\n",
    "print(arr1)\n",
    "print(arr2)"
   ]
  },
  {
   "cell_type": "code",
   "execution_count": 63,
   "metadata": {},
   "outputs": [
    {
     "name": "stdout",
     "output_type": "stream",
     "text": [
      "x:  0x7faf3ab3a090\n",
      "0x7faf3ab3a090\n",
      "x:  0x7faf3ab3a090\n"
     ]
    }
   ],
   "source": [
    "def update(ia):\n",
    "    print(hex(id(ia)))\n",
    "x = 1000\n",
    "print(\"x: \", hex(id(x)))\n",
    "update(x)\n",
    "print(\"x: \", hex(id(x)))"
   ]
  }
 ],
 "metadata": {
  "kernelspec": {
   "display_name": "Python 3",
   "language": "python",
   "name": "python3"
  },
  "language_info": {
   "codemirror_mode": {
    "name": "ipython",
    "version": 3
   },
   "file_extension": ".py",
   "mimetype": "text/x-python",
   "name": "python",
   "nbconvert_exporter": "python",
   "pygments_lexer": "ipython3",
   "version": "3.6.2"
  }
 },
 "nbformat": 4,
 "nbformat_minor": 2
}
